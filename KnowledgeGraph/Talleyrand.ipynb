{
 "cells": [
  {
   "cell_type": "code",
   "execution_count": 1,
   "metadata": {},
   "outputs": [],
   "source": [
    "from dotenv import load_dotenv\n",
    "import os\n",
    "\n",
    "# Langchain\n",
    "from langchain_community.graphs import Neo4jGraph\n",
    "import chunking\n",
    "# Warning control\n",
    "import warnings\n",
    "warnings.filterwarnings(\"ignore\")"
   ]
  },
  {
   "cell_type": "code",
   "execution_count": 2,
   "metadata": {},
   "outputs": [],
   "source": [
    "# Load from environment\n",
    "load_dotenv('.env', override=True)\n",
    "NEO4J_URI = os.getenv('NEO4J_URI')\n",
    "NEO4J_USERNAME = os.getenv('NEO4J_USERNAME')\n",
    "NEO4J_PASSWORD = os.getenv('NEO4J_PASSWORD')\n",
    "NEO4J_DATABASE = os.getenv('NEO4J_DATABASE') or 'neo4j'\n",
    "OPENAI_API_KEY = os.getenv('OPENAI_API_KEY')\n",
    "OPENAI_ENDPOINT = os.getenv('OPENAI_BASE_URL') + '/embeddings'\n",
    "\n",
    "\n",
    "kg = Neo4jGraph(\n",
    "    url=NEO4J_URI, username=NEO4J_USERNAME, password=NEO4J_PASSWORD, database=NEO4J_DATABASE\n",
    ")"
   ]
  },
  {
   "cell_type": "markdown",
   "metadata": {},
   "source": [
    "### 1. Splitting the Chunks"
   ]
  },
  {
   "cell_type": "code",
   "execution_count": 3,
   "metadata": {},
   "outputs": [],
   "source": [
    "#  Load JSON file\n",
    "file = \"../data/json/Talleyrand.json\""
   ]
  },
  {
   "cell_type": "code",
   "execution_count": 4,
   "metadata": {},
   "outputs": [
    {
     "name": "stdout",
     "output_type": "stream",
     "text": [
      "['General Information', 'Career', 'Death', 'Source']\n",
      "Processing General Information from ../data/json/Talleyrand.json\n",
      "\tSplit into 12 chunks\n",
      "Processing Career from ../data/json/Talleyrand.json\n",
      "\tSplit into 13 chunks\n",
      "Processing Death from ../data/json/Talleyrand.json\n",
      "\tSplit into 1 chunks\n",
      "Processing Source from ../data/json/Talleyrand.json\n",
      "\tSplit into 1 chunks\n"
     ]
    }
   ],
   "source": [
    "file_chunks = chunking.split_data_from_file(file)"
   ]
  },
  {
   "cell_type": "markdown",
   "metadata": {},
   "source": [
    "### 2. Create Chunk node in KnowledgeGraph with properties extracted from file"
   ]
  },
  {
   "cell_type": "code",
   "execution_count": 5,
   "metadata": {},
   "outputs": [
    {
     "data": {
      "text/plain": [
       "[{'mergedChunk': {'formItem': 'General Information',\n",
       "   'text': 'Charles-Maurice de Talleyrand-Périgord (/ˌtælɪrænd ˈpɛrɪɡɔːr/, French: [ʃaʁl mɔʁis də tal(ɛ)ʁɑ̃ peʁiɡɔʁ, – moʁ-]; 2 February 1754 – 17 May 1838), 1st Prince of Benevento, then Prince of Talleyrand, was a French secularized clergyman, statesman, and leading diplomat. After studying theology, he became Agent-General of the Clergy in 1780. In 1789, just before the French Revolution, he became Bishop of Autun. He worked at the highest levels of successive French governments, most commonly as foreign minister or in some other diplomatic capacity. His career spanned the regimes of Louis XVI, the years of the French Revolution, Napoleon, Louis XVIII, and Louis Philippe I. Those Talleyrand served often distrusted him but, like Napoleon, found him extremely useful. The name \"Talleyrand\" has become a byword for crafty and cynical diplomacy.\\nHe was Napoleon\\'s chief diplomat during the years when French military victories brought one European state after another under French hegemony. However, most of the time, Talleyrand worked for peace so as to consolidate France\\'s gains. He succeeded in obtaining peace with Austria through the 1801 Treaty of Lunéville and with Britain in the 1802 Treaty of Amiens. He could not prevent the renewal of war in 1803 but by 1805 he opposed his emperor\\'s renewed wars against Austria, Prussia, and Russia. He resigned as foreign minister in August 1807, but retained the trust of Napoleon. He conspired to undermine the emperor\\'s plans through secret dealings with Tsar Alexander I of Russia and the Austrian minister Klemens von Metternich. Talleyrand sought a negotiated secure peace so as to perpetuate the gains of the French Revolution. Napoleon rejected peace; when he fell in 1814, Talleyrand supported the Bourbon Restoration decided by the Allies. He played a major role at the Congress of Vienna in 1814–1815, where he negotiated a favorable settlement for France and played a role in unwinding the Napoleonic Wars.',\n",
       "   'source': 'Talleyrand History',\n",
       "   'chunkId': 'Talleyrand-General Information-chunk0000',\n",
       "   'chunkSeqId': 0}}]"
      ]
     },
     "execution_count": 5,
     "metadata": {},
     "output_type": "execute_result"
    }
   ],
   "source": [
    "# Create Napoleon_Chunk node and its properties\n",
    "merge_chunk_node_query = \"\"\"\n",
    "MERGE(mergedChunk:Talleyrand_Chunk {chunkId: $chunkParam.chunkId})\n",
    "    ON CREATE SET\n",
    "        mergedChunk.text = $chunkParam.text, \n",
    "        mergedChunk.source = $chunkParam.source, \n",
    "        mergedChunk.formItem = $chunkParam.formItem, \n",
    "        mergedChunk.chunkSeqId = $chunkParam.chunkSeqId\n",
    "RETURN mergedChunk\n",
    "\"\"\"\n",
    "kg.query(merge_chunk_node_query, \n",
    "         params={'chunkParam':file_chunks[0]})"
   ]
  },
  {
   "cell_type": "markdown",
   "metadata": {},
   "source": [
    "### 3. Create a uniqueness constraint to avoid duplicate chunks"
   ]
  },
  {
   "cell_type": "code",
   "execution_count": 6,
   "metadata": {},
   "outputs": [
    {
     "data": {
      "text/plain": [
       "[]"
      ]
     },
     "execution_count": 6,
     "metadata": {},
     "output_type": "execute_result"
    }
   ],
   "source": [
    "#  Create a uniqueness constraint to avoid duplicate chunks\n",
    "avoid_duplicate_chunks = \"\"\"\n",
    "CREATE CONSTRAINT unique_chunk IF NOT EXISTS \n",
    "    FOR (tc:Talleyrand_Chunk) REQUIRE tc.chunkId IS UNIQUE\n",
    "\"\"\"\n",
    "\n",
    "kg.query(avoid_duplicate_chunks)\n"
   ]
  },
  {
   "cell_type": "markdown",
   "metadata": {},
   "source": [
    "### 4. Adding all chunks data to knowledegeGraph"
   ]
  },
  {
   "cell_type": "code",
   "execution_count": 7,
   "metadata": {},
   "outputs": [
    {
     "name": "stdout",
     "output_type": "stream",
     "text": [
      "Creating `:Chunk` node for chunk ID Talleyrand-General Information-chunk0000\n",
      "Creating `:Chunk` node for chunk ID Talleyrand-General Information-chunk0001\n",
      "Creating `:Chunk` node for chunk ID Talleyrand-General Information-chunk0002\n",
      "Creating `:Chunk` node for chunk ID Talleyrand-General Information-chunk0003\n",
      "Creating `:Chunk` node for chunk ID Talleyrand-General Information-chunk0004\n",
      "Creating `:Chunk` node for chunk ID Talleyrand-General Information-chunk0005\n",
      "Creating `:Chunk` node for chunk ID Talleyrand-General Information-chunk0006\n",
      "Creating `:Chunk` node for chunk ID Talleyrand-General Information-chunk0007\n",
      "Creating `:Chunk` node for chunk ID Talleyrand-General Information-chunk0008\n",
      "Creating `:Chunk` node for chunk ID Talleyrand-General Information-chunk0009\n",
      "Creating `:Chunk` node for chunk ID Talleyrand-General Information-chunk0010\n",
      "Creating `:Chunk` node for chunk ID Talleyrand-General Information-chunk0011\n",
      "Creating `:Chunk` node for chunk ID Talleyrand-Career-chunk0000\n",
      "Creating `:Chunk` node for chunk ID Talleyrand-Career-chunk0001\n",
      "Creating `:Chunk` node for chunk ID Talleyrand-Career-chunk0002\n",
      "Creating `:Chunk` node for chunk ID Talleyrand-Career-chunk0003\n",
      "Creating `:Chunk` node for chunk ID Talleyrand-Career-chunk0004\n",
      "Creating `:Chunk` node for chunk ID Talleyrand-Career-chunk0005\n",
      "Creating `:Chunk` node for chunk ID Talleyrand-Career-chunk0006\n",
      "Creating `:Chunk` node for chunk ID Talleyrand-Career-chunk0007\n",
      "Creating `:Chunk` node for chunk ID Talleyrand-Career-chunk0008\n",
      "Creating `:Chunk` node for chunk ID Talleyrand-Career-chunk0009\n",
      "Creating `:Chunk` node for chunk ID Talleyrand-Career-chunk0010\n",
      "Creating `:Chunk` node for chunk ID Talleyrand-Career-chunk0011\n",
      "Creating `:Chunk` node for chunk ID Talleyrand-Career-chunk0012\n",
      "Creating `:Chunk` node for chunk ID Talleyrand-Death-chunk0000\n",
      "Creating `:Chunk` node for chunk ID Talleyrand-Source-chunk0000\n",
      "Created 27 nodes\n"
     ]
    }
   ],
   "source": [
    "node_count = 0\n",
    "for chunk in file_chunks:\n",
    "    print(f\"Creating `:Chunk` node for chunk ID {chunk['chunkId']}\")\n",
    "    kg.query(merge_chunk_node_query, \n",
    "            params={\n",
    "                'chunkParam': chunk\n",
    "            })\n",
    "    node_count += 1\n",
    "print(f\"Created {node_count} nodes\")"
   ]
  },
  {
   "cell_type": "markdown",
   "metadata": {},
   "source": [
    "### 5. Create a VectorIndex for the Talleyrand_Chunk"
   ]
  },
  {
   "cell_type": "code",
   "execution_count": 8,
   "metadata": {},
   "outputs": [
    {
     "data": {
      "text/plain": [
       "[]"
      ]
     },
     "execution_count": 8,
     "metadata": {},
     "output_type": "execute_result"
    }
   ],
   "source": [
    "VectorIndex = \"\"\"\n",
    "         CREATE VECTOR INDEX `TalleyrandOpenAI` IF NOT EXISTS\n",
    "          FOR (nc:Napoleon_Chunk) ON (nc.textEmbeddingOpenAI) \n",
    "          OPTIONS { indexConfig: {\n",
    "            `vector.dimensions`: 1536,\n",
    "            `vector.similarity_function`: 'cosine'    \n",
    "         }}\n",
    "\"\"\"\n",
    "\n",
    "kg.query(VectorIndex)\n"
   ]
  },
  {
   "cell_type": "markdown",
   "metadata": {},
   "source": [
    "### 6. Embedding the text data using a provider and add it to the Talleyrand_Chunk node as a property named textEmbeddingOpenAI"
   ]
  },
  {
   "cell_type": "code",
   "execution_count": 9,
   "metadata": {
    "vscode": {
     "languageId": "powershell"
    }
   },
   "outputs": [
    {
     "data": {
      "text/plain": [
       "[]"
      ]
     },
     "execution_count": 9,
     "metadata": {},
     "output_type": "execute_result"
    }
   ],
   "source": [
    "kg.query(\"\"\"\n",
    "    MATCH (Talleyrand_Chunk:Talleyrand_Chunk) WHERE Talleyrand_Chunk.textEmbeddingOpenAI IS NULL\n",
    "    WITH Talleyrand_Chunk, genai.vector.encode(\n",
    "      Talleyrand_Chunk.text, \n",
    "      \"OpenAI\", \n",
    "      {\n",
    "        token: $openAiApiKey, \n",
    "        endpoint: $openAiEndpoint\n",
    "      }) AS vector\n",
    "    CALL db.create.setNodeVectorProperty(Talleyrand_Chunk, \"textEmbeddingOpenAI\", vector) \n",
    "    \"\"\", \n",
    "    params={\"openAiApiKey\":OPENAI_API_KEY, \"openAiEndpoint\": OPENAI_ENDPOINT} )"
   ]
  },
  {
   "cell_type": "markdown",
   "metadata": {
    "vscode": {
     "languageId": "powershell"
    }
   },
   "source": [
    "### Optional: 6.1. If you want to Embed data using HuggingFace use this part"
   ]
  },
  {
   "cell_type": "code",
   "execution_count": 10,
   "metadata": {
    "vscode": {
     "languageId": "powershell"
    }
   },
   "outputs": [],
   "source": [
    "# # I am using T5 base but you can add more model in LLM file for yourself\n",
    "# embedd_model = T5.t5_model()\n",
    "# chunks = kg.query(\"MATCH (Napoleon_Chunk:Napoleon_Chunk) WHERE Talleyrand_Chunk.textEmbedding IS NULL RETURN id(Napoleon_Chunk) as id, Napoleon_Chunk.text as text\")\n",
    "\n",
    "\n",
    "# for chunk in chunks:\n",
    "#     text = chunk[\"text\"]\n",
    "#     print(f\"Embedding Chunk {chunk['id']}\")\n",
    "#     vector = embedd_model.embed([text])\n",
    "\n",
    "#     vector_list = vector.tolist()\n",
    "#     print(vector_list)\n",
    "\n",
    "#     kg.query(\n",
    "#         \"\"\"\n",
    "#         MATCH (Napoleon_Chunk:Napoleon_Chunk) WHERE id(Napoleon_Chunk) = $id\n",
    "#         SET Napoleon_Chunk.textEmbedding = $vector\n",
    "#         \"\"\",\n",
    "#         params={\"id\": chunk[\"id\"], \"vector\": vector_list}\n",
    "#     )"
   ]
  },
  {
   "cell_type": "markdown",
   "metadata": {},
   "source": [
    "### 9. Finding all Chunks from the same formItem"
   ]
  },
  {
   "cell_type": "code",
   "execution_count": 11,
   "metadata": {},
   "outputs": [
    {
     "name": "stdout",
     "output_type": "stream",
     "text": [
      "General Information : [{'chunkItemInfo': {'text': 'Charles-Maurice de Talleyrand-Périgord (/ˌtælɪrænd ˈpɛrɪɡɔːr/, French: [ʃaʁl mɔʁis də tal(ɛ)ʁɑ̃ peʁiɡɔʁ, – moʁ-]; 2 February 1754 – 17 May 1838), 1st Prince of Benevento, then Prince of Talleyrand, was a French secularized clergyman, statesman, and leading diplomat. After studying theology, he became Agent-General of the Clergy in 1780. In 1789, just before the French Revolution, he became Bishop of Autun. He worked at the highest levels of successive French governments, most commonly as foreign minister or in some other diplomatic capacity. His career spanned the regimes of Louis XVI, the years of the French Revolution, Napoleon, Louis XVIII, and Louis Philippe I. Those Talleyrand served often distrusted him but, like Napoleon, found him extremely useful. The name \"Talleyrand\" has become a byword for crafty and cynical diplomacy.\\nHe was Napoleon\\'s chief diplomat during the years when French military victories brought one European state after another under French hegemony. However, most of the time, Talleyrand worked for peace so as to consolidate France\\'s gains. He succeeded in obtaining peace with Austria through the 1801 Treaty of Lunéville and with Britain in the 1802 Treaty of Amiens. He could not prevent the renewal of war in 1803 but by 1805 he opposed his emperor\\'s renewed wars against Austria, Prussia, and Russia. He resigned as foreign minister in August 1807, but retained the trust of Napoleon. He conspired to undermine the emperor\\'s plans through secret dealings with Tsar Alexander I of Russia and the Austrian minister Klemens von Metternich. Talleyrand sought a negotiated secure peace so as to perpetuate the gains of the French Revolution. Napoleon rejected peace; when he fell in 1814, Talleyrand supported the Bourbon Restoration decided by the Allies. He played a major role at the Congress of Vienna in 1814–1815, where he negotiated a favorable settlement for France and played a role in unwinding the Napoleonic Wars.', 'formItem': 'General Information', 'chunkId': 'Talleyrand-General Information-chunk0000', 'chunkSeqId': 0}}]\n",
      "Career : [{'chunkItemInfo': {'text': \"Talleyrand, along with Napoleon's younger brother, Lucien Bonaparte, was instrumental in the 1799 coup d'état of 18 Brumaire, establishing the French Consulate government, although he also made preparations for flight if necessary. He also persuaded Barras to resign as Director. Talleyrand was soon made Foreign Minister by Napoleon, although he rarely agreed with Napoleon's foreign policy. Domestically, Talleyrand used his influence to help in the repeal of the strict laws against émigrés, refractory clergy, and the royalists of the west. The Pope released him from the ban of excommunication in the Concordat of 1801, which also revoked the Civil Constitution of the Clergy. Talleyrand was instrumental in the completion of the Treaty of Amiens in 1802. He wanted Napoleon to keep peace afterwards, as he thought France had reached its maximum expansion.\\nTalleyrand was an integral player in the German mediatization. While the Treaty of Campo Formio of 1797 had, on paper, stripped German princes of their lands beyond the left bank of the Rhine, it was not enforced until the Treaty of Lunéville in 1801. As the French annexed these lands, leaders believed that rulers of states such as Baden, Bavaria, Württemberg, Prussia, Hesse and Nassau, who lost territories on the Left Bank, should receive new territories on the Right Bank through the secularization of ecclesiastical principalities. Many of these rulers gave out bribes in order to secure new lands, and Talleyrand and some of his associates amassed about 10 million francs in the process. This was the first blow in the destruction of the Holy Roman Empire.\", 'formItem': 'Career', 'chunkId': 'Talleyrand-Career-chunk0000', 'chunkSeqId': 0}}]\n",
      "Death : [{'chunkItemInfo': {'text': \"Charles Maurice de Talleyrand-Périgord, a prominent French diplomat, died on May 17, 1838, in Paris, at the age of 84. His death marked the end of a significant era in European diplomacy, as he had been a key political figure through the French Revolution, the Napoleonic era, and the Bourbon Restoration. In his later years, Talleyrand suffered from declining health, afflicted by gout and other ailments that left him increasingly frail. Before his death, he sought reconciliation with the Catholic Church, receiving the last rites from the Archbishop of Paris, thus signaling his return to the Church after many years of estrangement. Talleyrand's death was widely noted across Europe due to his immense influence on European politics and diplomacy. He is remembered as a master diplomat who navigated the turbulent political landscape of his time with skill and pragmatism. Born into an aristocratic family on February 2, 1754, Talleyrand initially pursued a clerical career, becoming a bishop. He played a significant role during the French Revolution, advocating for the confiscation of Church property and supporting the revolutionary government. Throughout his diplomatic career, he served under various regimes, including those of Napoleon Bonaparte and King Louis XVIII, showcasing his ability to adapt to changing political landscapes. He was instrumental in negotiating key treaties, including the Treaty of Vienna (1815), which reshaped Europe after the Napoleonic Wars. Known for his pragmatism and sometimes criticized for his opportunism, Talleyrand's actions were often driven by a desire to maintain stability and balance of power in Europe. His life and career were characterized by his extraordinary ability to survive and thrive through one of the most tumultuous periods in European history, and his death marked the end of a remarkable journey of political maneuvering and influence.\", 'formItem': 'Death', 'chunkId': 'Talleyrand-Death-chunk0000', 'chunkSeqId': 0}}]\n"
     ]
    }
   ],
   "source": [
    "# Each chunk is a small part of the document. To do this, first we need to find all chunks that belong together\n",
    "cypher = \"\"\"\n",
    "   MATCH (from_same_chunk_item:Talleyrand_Chunk)\n",
    "    WHERE from_same_chunk_item.formItem = $TalleyrandParam\n",
    "    AND from_same_chunk_item.formItem = $TalleyrandParam\n",
    "  RETURN from_same_chunk_item {.text, .formItem, .chunkId, .chunkSeqId } as chunkItemInfo\n",
    "    ORDER BY from_same_chunk_item.chunkSeqId ASC\n",
    "    LIMIT 1\n",
    "\"\"\"\n",
    "\n",
    "items = ['General Information', 'Career', 'Death']\n",
    "for item in items:\n",
    "  kg.query(cypher, params={'TalleyrandParam':item})\n",
    "  print(f\"{item} : {kg.query(cypher, params={'TalleyrandParam':item})}\")"
   ]
  },
  {
   "cell_type": "markdown",
   "metadata": {},
   "source": [
    "### 10. Adding NEXT relationship"
   ]
  },
  {
   "cell_type": "code",
   "execution_count": 13,
   "metadata": {},
   "outputs": [
    {
     "name": "stdout",
     "output_type": "stream",
     "text": [
      "for General Information: [{'size(section_chunk_list)': 12}]\n",
      "for Career: [{'size(section_chunk_list)': 13}]\n",
      "for Death: [{'size(section_chunk_list)': 1}]\n"
     ]
    }
   ],
   "source": [
    "# ordering based on chunkSeqId\n",
    "cypher = \"\"\"\n",
    "  MATCH (from_same_chunk_item:Talleyrand_Chunk)\n",
    "  WHERE from_same_chunk_item.formItem = $TalleyrandParam\n",
    "    AND from_same_chunk_item.formItem = $TalleyrandParam\n",
    "  WITH from_same_chunk_item\n",
    "    ORDER BY from_same_chunk_item.chunkSeqId ASC\n",
    "  WITH collect(from_same_chunk_item) as section_chunk_list\n",
    "    CALL apoc.nodes.link(\n",
    "        section_chunk_list, \n",
    "        \"NEXT\", \n",
    "        {avoidDuplicates: true}\n",
    "    )\n",
    "  RETURN size(section_chunk_list)\n",
    "\"\"\"\n",
    "\n",
    "items = ['General Information', 'Career', 'Death']\n",
    "for item in items:\n",
    "  kg.query(cypher, params={'TalleyrandParam':item})\n",
    "  print(f\"for {item}: {kg.query(cypher, params={'TalleyrandParam':item})}\" )"
   ]
  }
 ],
 "metadata": {
  "kernelspec": {
   "display_name": "base",
   "language": "python",
   "name": "python3"
  },
  "language_info": {
   "codemirror_mode": {
    "name": "ipython",
    "version": 3
   },
   "file_extension": ".py",
   "mimetype": "text/x-python",
   "name": "python",
   "nbconvert_exporter": "python",
   "pygments_lexer": "ipython3",
   "version": "3.12.1"
  }
 },
 "nbformat": 4,
 "nbformat_minor": 2
}
