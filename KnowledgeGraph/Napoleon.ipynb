{
 "cells": [
  {
   "cell_type": "code",
   "execution_count": 1,
   "metadata": {},
   "outputs": [],
   "source": [
    "from dotenv import load_dotenv\n",
    "import os\n",
    "\n",
    "# Langchain\n",
    "from langchain_community.graphs import Neo4jGraph\n",
    "import chunking\n",
    "# Warning control\n",
    "import warnings\n",
    "warnings.filterwarnings(\"ignore\")"
   ]
  },
  {
   "cell_type": "code",
   "execution_count": 2,
   "metadata": {},
   "outputs": [],
   "source": [
    "# Load from environment\n",
    "load_dotenv('.env', override=True)\n",
    "NEO4J_URI = os.getenv('NEO4J_URI')\n",
    "NEO4J_USERNAME = os.getenv('NEO4J_USERNAME')\n",
    "NEO4J_PASSWORD = os.getenv('NEO4J_PASSWORD')\n",
    "NEO4J_DATABASE = os.getenv('NEO4J_DATABASE') or 'neo4j'\n",
    "OPENAI_API_KEY = os.getenv('OPENAI_API_KEY')\n",
    "OPENAI_ENDPOINT = os.getenv('OPENAI_BASE_URL') + '/embeddings'\n",
    "\n",
    "\n",
    "kg = Neo4jGraph(\n",
    "    url=NEO4J_URI, username=NEO4J_USERNAME, password=NEO4J_PASSWORD, database=NEO4J_DATABASE\n",
    ")"
   ]
  },
  {
   "cell_type": "markdown",
   "metadata": {},
   "source": [
    "# 1. Splitting the Chunks"
   ]
  },
  {
   "cell_type": "code",
   "execution_count": 3,
   "metadata": {},
   "outputs": [],
   "source": [
    "#  Load JSON file\n",
    "file = \"../data/json/Napoleon.json\""
   ]
  },
  {
   "cell_type": "code",
   "execution_count": 4,
   "metadata": {},
   "outputs": [
    {
     "name": "stdout",
     "output_type": "stream",
     "text": [
      "['General Information', 'Career', 'Death', 'Source']\n",
      "Processing General Information from ../data/json/Napoleon.json\n",
      "\tSplit into 18 chunks\n",
      "Processing Career from ../data/json/Napoleon.json\n",
      "\tSplit into 34 chunks\n",
      "Processing Death from ../data/json/Napoleon.json\n",
      "\tSplit into 8 chunks\n",
      "Processing Source from ../data/json/Napoleon.json\n",
      "\tSplit into 1 chunks\n"
     ]
    }
   ],
   "source": [
    "file_chunks = chunking.split_data_from_file(file)"
   ]
  },
  {
   "cell_type": "markdown",
   "metadata": {},
   "source": [
    "# 2. Create Chunk node in KnowledgeGraph with properties extracted from file"
   ]
  },
  {
   "cell_type": "code",
   "execution_count": 5,
   "metadata": {},
   "outputs": [
    {
     "data": {
      "text/plain": [
       "[{'mergedChunk': {'formItem': 'General Information',\n",
       "   'text': \"Napoleon Bonaparte (born Napoleone di Buonaparte;[b] 15 August 1769 – 5 May 1821), later known by his regnal name Napoleon\\xa0I, was a French military and political leader who rose to prominence during the French Revolution and led a series of successful campaigns across Europe during the Revolutionary Wars and Napoleonic Wars from 1796 to 1815. He was the leader of the French Republic as First Consul from 1799 to 1804, then of the French Empire as Emperor of the French from 1804 to 1814, and briefly again in 1815.\\nBorn on the island of Corsica to a family of Italian origin, Napoleon moved to mainland France in 1779 and was commissioned as an officer in the French Army in 1785. He supported the French Revolution in 1789, and promoted its cause in Corsica. He rose rapidly in the ranks after breaking the siege of Toulon in 1793 and firing on royalist insurgents in Paris on 13 Vendémiaire in 1795. In 1796, Napoleon commanded a military campaign against the Austrians and their Italian allies in the War of the First Coalition, scoring decisive victories and becoming a national hero. He led an expedition to Egypt and Syria in 1798 which served as a springboard to political power. In November 1799, Napoleon engineered the Coup of 18 Brumaire against the Directory, and became First Consul of the Republic. He won the Battle of Marengo in 1800, which secured French victory in the War of the Second Coalition, and in 1803 sold the territory of Louisiana to the United States, which doubled the latter's area. In December 1804, Napoleon crowned himself Emperor of the French, further expanding his power.\",\n",
       "   'source': 'Napoleon History',\n",
       "   'chunkId': 'Napoleon-General Information-chunk0000',\n",
       "   'chunkSeqId': 0}}]"
      ]
     },
     "execution_count": 5,
     "metadata": {},
     "output_type": "execute_result"
    }
   ],
   "source": [
    "# Create Napoleon_Chunk node and its properties\n",
    "merge_chunk_node_query = \"\"\"\n",
    "MERGE(mergedChunk:Napoleon_Chunk {chunkId: $chunkParam.chunkId})\n",
    "    ON CREATE SET\n",
    "        mergedChunk.text = $chunkParam.text, \n",
    "        mergedChunk.source = $chunkParam.source, \n",
    "        mergedChunk.formItem = $chunkParam.formItem, \n",
    "        mergedChunk.chunkSeqId = $chunkParam.chunkSeqId\n",
    "RETURN mergedChunk\n",
    "\"\"\"\n",
    "kg.query(merge_chunk_node_query, \n",
    "         params={'chunkParam':file_chunks[0]})"
   ]
  },
  {
   "cell_type": "markdown",
   "metadata": {},
   "source": [
    "# 3. Create a uniqueness constraint to avoid duplicate chunks"
   ]
  },
  {
   "cell_type": "code",
   "execution_count": 6,
   "metadata": {},
   "outputs": [
    {
     "data": {
      "text/plain": [
       "[]"
      ]
     },
     "execution_count": 6,
     "metadata": {},
     "output_type": "execute_result"
    }
   ],
   "source": [
    "#  Create a uniqueness constraint to avoid duplicate chunks\n",
    "avoid_duplicate_chunks = \"\"\"\n",
    "CREATE CONSTRAINT unique_chunk IF NOT EXISTS \n",
    "    FOR (nc:Napoleon_Chunk) REQUIRE nc.chunkId IS UNIQUE\n",
    "\"\"\"\n",
    "\n",
    "kg.query(avoid_duplicate_chunks)\n"
   ]
  },
  {
   "cell_type": "markdown",
   "metadata": {},
   "source": [
    "# 4. Adding all chunks data to knowledegeGraph"
   ]
  },
  {
   "cell_type": "code",
   "execution_count": 7,
   "metadata": {},
   "outputs": [
    {
     "name": "stdout",
     "output_type": "stream",
     "text": [
      "Creating `:Chunk` node for chunk ID Napoleon-General Information-chunk0000\n",
      "Creating `:Chunk` node for chunk ID Napoleon-General Information-chunk0001\n",
      "Creating `:Chunk` node for chunk ID Napoleon-General Information-chunk0002\n",
      "Creating `:Chunk` node for chunk ID Napoleon-General Information-chunk0003\n",
      "Creating `:Chunk` node for chunk ID Napoleon-General Information-chunk0004\n",
      "Creating `:Chunk` node for chunk ID Napoleon-General Information-chunk0005\n",
      "Creating `:Chunk` node for chunk ID Napoleon-General Information-chunk0006\n",
      "Creating `:Chunk` node for chunk ID Napoleon-General Information-chunk0007\n",
      "Creating `:Chunk` node for chunk ID Napoleon-General Information-chunk0008\n",
      "Creating `:Chunk` node for chunk ID Napoleon-General Information-chunk0009\n",
      "Creating `:Chunk` node for chunk ID Napoleon-General Information-chunk0010\n",
      "Creating `:Chunk` node for chunk ID Napoleon-General Information-chunk0011\n",
      "Creating `:Chunk` node for chunk ID Napoleon-General Information-chunk0012\n",
      "Creating `:Chunk` node for chunk ID Napoleon-General Information-chunk0013\n",
      "Creating `:Chunk` node for chunk ID Napoleon-General Information-chunk0014\n",
      "Creating `:Chunk` node for chunk ID Napoleon-General Information-chunk0015\n",
      "Creating `:Chunk` node for chunk ID Napoleon-General Information-chunk0016\n",
      "Creating `:Chunk` node for chunk ID Napoleon-General Information-chunk0017\n",
      "Creating `:Chunk` node for chunk ID Napoleon-Career-chunk0000\n",
      "Creating `:Chunk` node for chunk ID Napoleon-Career-chunk0001\n",
      "Creating `:Chunk` node for chunk ID Napoleon-Career-chunk0002\n",
      "Creating `:Chunk` node for chunk ID Napoleon-Career-chunk0003\n",
      "Creating `:Chunk` node for chunk ID Napoleon-Career-chunk0004\n",
      "Creating `:Chunk` node for chunk ID Napoleon-Career-chunk0005\n",
      "Creating `:Chunk` node for chunk ID Napoleon-Career-chunk0006\n",
      "Creating `:Chunk` node for chunk ID Napoleon-Career-chunk0007\n",
      "Creating `:Chunk` node for chunk ID Napoleon-Career-chunk0008\n",
      "Creating `:Chunk` node for chunk ID Napoleon-Career-chunk0009\n",
      "Creating `:Chunk` node for chunk ID Napoleon-Career-chunk0010\n",
      "Creating `:Chunk` node for chunk ID Napoleon-Career-chunk0011\n",
      "Creating `:Chunk` node for chunk ID Napoleon-Career-chunk0012\n",
      "Creating `:Chunk` node for chunk ID Napoleon-Career-chunk0013\n",
      "Creating `:Chunk` node for chunk ID Napoleon-Career-chunk0014\n",
      "Creating `:Chunk` node for chunk ID Napoleon-Career-chunk0015\n",
      "Creating `:Chunk` node for chunk ID Napoleon-Career-chunk0016\n",
      "Creating `:Chunk` node for chunk ID Napoleon-Career-chunk0017\n",
      "Creating `:Chunk` node for chunk ID Napoleon-Career-chunk0018\n",
      "Creating `:Chunk` node for chunk ID Napoleon-Career-chunk0019\n",
      "Creating `:Chunk` node for chunk ID Napoleon-Career-chunk0020\n",
      "Creating `:Chunk` node for chunk ID Napoleon-Career-chunk0021\n",
      "Creating `:Chunk` node for chunk ID Napoleon-Career-chunk0022\n",
      "Creating `:Chunk` node for chunk ID Napoleon-Career-chunk0023\n",
      "Creating `:Chunk` node for chunk ID Napoleon-Career-chunk0024\n",
      "Creating `:Chunk` node for chunk ID Napoleon-Career-chunk0025\n",
      "Creating `:Chunk` node for chunk ID Napoleon-Career-chunk0026\n",
      "Creating `:Chunk` node for chunk ID Napoleon-Career-chunk0027\n",
      "Creating `:Chunk` node for chunk ID Napoleon-Career-chunk0028\n",
      "Creating `:Chunk` node for chunk ID Napoleon-Career-chunk0029\n",
      "Creating `:Chunk` node for chunk ID Napoleon-Career-chunk0030\n",
      "Creating `:Chunk` node for chunk ID Napoleon-Career-chunk0031\n",
      "Creating `:Chunk` node for chunk ID Napoleon-Career-chunk0032\n",
      "Creating `:Chunk` node for chunk ID Napoleon-Career-chunk0033\n",
      "Creating `:Chunk` node for chunk ID Napoleon-Death-chunk0000\n",
      "Creating `:Chunk` node for chunk ID Napoleon-Death-chunk0001\n",
      "Creating `:Chunk` node for chunk ID Napoleon-Death-chunk0002\n",
      "Creating `:Chunk` node for chunk ID Napoleon-Death-chunk0003\n",
      "Creating `:Chunk` node for chunk ID Napoleon-Death-chunk0004\n",
      "Creating `:Chunk` node for chunk ID Napoleon-Death-chunk0005\n",
      "Creating `:Chunk` node for chunk ID Napoleon-Death-chunk0006\n",
      "Creating `:Chunk` node for chunk ID Napoleon-Death-chunk0007\n",
      "Creating `:Chunk` node for chunk ID Napoleon-Source-chunk0000\n",
      "Created 61 nodes\n"
     ]
    }
   ],
   "source": [
    "node_count = 0\n",
    "for chunk in file_chunks:\n",
    "    print(f\"Creating `:Chunk` node for chunk ID {chunk['chunkId']}\")\n",
    "    kg.query(merge_chunk_node_query, \n",
    "            params={\n",
    "                'chunkParam': chunk\n",
    "            })\n",
    "    node_count += 1\n",
    "print(f\"Created {node_count} nodes\")"
   ]
  },
  {
   "cell_type": "markdown",
   "metadata": {},
   "source": [
    "# 5. Create a VectorIndex for the Napoleon_Chunk"
   ]
  },
  {
   "cell_type": "code",
   "execution_count": 8,
   "metadata": {},
   "outputs": [
    {
     "data": {
      "text/plain": [
       "[]"
      ]
     },
     "execution_count": 8,
     "metadata": {},
     "output_type": "execute_result"
    }
   ],
   "source": [
    "VectorIndex = \"\"\"\n",
    "         CREATE VECTOR INDEX `NapoleonOpenAI` IF NOT EXISTS\n",
    "          FOR (nc:Napoleon_Chunk) ON (nc.textEmbeddingOpenAI) \n",
    "          OPTIONS { indexConfig: {\n",
    "            `vector.dimensions`: 1536,\n",
    "            `vector.similarity_function`: 'cosine'    \n",
    "         }}\n",
    "\"\"\"\n",
    "\n",
    "kg.query(VectorIndex)\n"
   ]
  },
  {
   "cell_type": "markdown",
   "metadata": {},
   "source": [
    "# 6. Embedding the text data using a provider and add it to the Napoleon_Chunk node as a property named textEmbeddingOpenAI"
   ]
  },
  {
   "cell_type": "code",
   "execution_count": 9,
   "metadata": {
    "vscode": {
     "languageId": "powershell"
    }
   },
   "outputs": [
    {
     "data": {
      "text/plain": [
       "[]"
      ]
     },
     "execution_count": 9,
     "metadata": {},
     "output_type": "execute_result"
    }
   ],
   "source": [
    "kg.query(\"\"\"\n",
    "    MATCH (Napoleon_Chunk:Napoleon_Chunk) WHERE Napoleon_Chunk.textEmbeddingOpenAI IS NULL\n",
    "    WITH Napoleon_Chunk, genai.vector.encode(\n",
    "      Napoleon_Chunk.text, \n",
    "      \"OpenAI\", \n",
    "      {\n",
    "        token: $openAiApiKey, \n",
    "        endpoint: $openAiEndpoint\n",
    "      }) AS vector\n",
    "    CALL db.create.setNodeVectorProperty(Napoleon_Chunk, \"textEmbeddingOpenAI\", vector)\n",
    "    \"\"\", \n",
    "    params={\"openAiApiKey\":OPENAI_API_KEY, \"openAiEndpoint\": OPENAI_ENDPOINT} )"
   ]
  },
  {
   "cell_type": "markdown",
   "metadata": {
    "vscode": {
     "languageId": "powershell"
    }
   },
   "source": [
    "# Optional: 6.1. If you want to Embed data using HuggingFace use this part"
   ]
  },
  {
   "cell_type": "code",
   "execution_count": 10,
   "metadata": {
    "vscode": {
     "languageId": "powershell"
    }
   },
   "outputs": [],
   "source": [
    "# # I am using T5 base but you can add more model in LLM file for yourself\n",
    "# embedd_model = T5.t5_model()\n",
    "# chunks = kg.query(\"MATCH (Napoleon_Chunk:Napoleon_Chunk) WHERE Napoleon_Chunk.textEmbedding IS NULL RETURN id(Napoleon_Chunk) as id, Napoleon_Chunk.text as text\")\n",
    "\n",
    "\n",
    "# for chunk in chunks:\n",
    "#     text = chunk[\"text\"]\n",
    "#     print(f\"Embedding Chunk {chunk['id']}\")\n",
    "#     vector = embedd_model.embed([text])\n",
    "\n",
    "#     vector_list = vector.tolist()\n",
    "#     print(vector_list)\n",
    "\n",
    "#     kg.query(\n",
    "#         \"\"\"\n",
    "#         MATCH (Napoleon_Chunk:Napoleon_Chunk) WHERE id(Napoleon_Chunk) = $id\n",
    "#         SET Napoleon_Chunk.textEmbedding = $vector\n",
    "#         \"\"\",\n",
    "#         params={\"id\": chunk[\"id\"], \"vector\": vector_list}\n",
    "#     )"
   ]
  },
  {
   "cell_type": "markdown",
   "metadata": {},
   "source": [
    "# 7. Extracting form information from Napoleon_Chunk: Each of the chunk contains information we need to create the Form node. "
   ]
  },
  {
   "cell_type": "code",
   "execution_count": 10,
   "metadata": {},
   "outputs": [
    {
     "data": {
      "text/plain": [
       "[{'formInfo': {'source': 'Napoleon History',\n",
       "   'formItem': 'General Information'}}]"
      ]
     },
     "execution_count": 10,
     "metadata": {},
     "output_type": "execute_result"
    }
   ],
   "source": [
    "cypher = \"\"\"\n",
    "  MATCH (anyChunk:Napoleon_Chunk) \n",
    "  WITH anyChunk LIMIT 1\n",
    "  RETURN anyChunk {.source, .formItem } as formInfo\n",
    "\"\"\"\n",
    "form_info_list = kg.query(cypher)\n",
    "\n",
    "form_info_list\n"
   ]
  },
  {
   "cell_type": "code",
   "execution_count": 12,
   "metadata": {},
   "outputs": [],
   "source": [
    "form_item = list(set(item['formInfo'].get('formItem') for item in form_info_list))\n",
    "source = list(set(item['formInfo'].get('source') for item in form_info_list))"
   ]
  },
  {
   "cell_type": "markdown",
   "metadata": {},
   "source": [
    "# 8. Create Napoleon_Death, Napoleon_Career and Napoleon_General Node"
   ]
  },
  {
   "cell_type": "code",
   "execution_count": 13,
   "metadata": {},
   "outputs": [
    {
     "name": "stdout",
     "output_type": "stream",
     "text": [
      "Napoleon_General node creted [{'COUNT(nf)': 1}]\n",
      "Napoleon_Career node creted [{'COUNT(nf)': 1}]\n",
      "Napoleon_Death node creted [{'COUNT(nf)': 1}]\n"
     ]
    }
   ],
   "source": [
    "# # Creating a form node using source\n",
    "# cypher_template = \"\"\"\n",
    "#     MERGE (nf:{node_name})\n",
    "#       ON CREATE \n",
    "#         SET nf.formItem = $formItem\n",
    "#         RETURN COUNT(nf)\n",
    "# \"\"\"\n",
    "# node_name = {'Napoleon_General': 'General Information', 'Napoleon_Career':'Career', 'Napoleon_Death':'Death'}\n",
    "# for name, form_item in node_name.items():\n",
    "#     cypher = cypher_template.format(node_name=name)\n",
    "#     result = kg.query(cypher, params={'formItem': form_item})\n",
    "#     print(f\"{name} node creted {result}\")"
   ]
  },
  {
   "cell_type": "markdown",
   "metadata": {},
   "source": [
    "# 9. Finding all Chunks from the same formItem"
   ]
  },
  {
   "cell_type": "code",
   "execution_count": 12,
   "metadata": {},
   "outputs": [
    {
     "name": "stdout",
     "output_type": "stream",
     "text": [
      "[{'chunkItemInfo': {'text': \"Napoleon Bonaparte (born Napoleone di Buonaparte;[b] 15 August 1769 – 5 May 1821), later known by his regnal name Napoleon\\xa0I, was a French military and political leader who rose to prominence during the French Revolution and led a series of successful campaigns across Europe during the Revolutionary Wars and Napoleonic Wars from 1796 to 1815. He was the leader of the French Republic as First Consul from 1799 to 1804, then of the French Empire as Emperor of the French from 1804 to 1814, and briefly again in 1815.\\nBorn on the island of Corsica to a family of Italian origin, Napoleon moved to mainland France in 1779 and was commissioned as an officer in the French Army in 1785. He supported the French Revolution in 1789, and promoted its cause in Corsica. He rose rapidly in the ranks after breaking the siege of Toulon in 1793 and firing on royalist insurgents in Paris on 13 Vendémiaire in 1795. In 1796, Napoleon commanded a military campaign against the Austrians and their Italian allies in the War of the First Coalition, scoring decisive victories and becoming a national hero. He led an expedition to Egypt and Syria in 1798 which served as a springboard to political power. In November 1799, Napoleon engineered the Coup of 18 Brumaire against the Directory, and became First Consul of the Republic. He won the Battle of Marengo in 1800, which secured French victory in the War of the Second Coalition, and in 1803 sold the territory of Louisiana to the United States, which doubled the latter's area. In December 1804, Napoleon crowned himself Emperor of the French, further expanding his power.\", 'formItem': 'General Information', 'chunkId': 'Napoleon-General Information-chunk0000', 'chunkSeqId': 0}}]\n",
      "[{'chunkItemInfo': {'text': \"Upon graduating in September 1785, Bonaparte was commissioned a second lieutenant in La Fère artillery regiment. He served in Valence and Auxonne until after the outbreak of the French Revolution in 1789, but spent long periods of leave in Corsica which fed his Corsican nationalism. In September 1789, he returned to Corsica and promoted the French revolutionary cause. Paoli returned to the island in July 1790, but he had no sympathy for Bonaparte, as he deemed his father a traitor for having deserted the cause of Corsican independence.\\nBonaparte plunged into a complex three-way struggle among royalists, revolutionaries, and Corsican nationalists. He became a supporter of the Jacobins and joined the pro-French Corsican Republicans who opposed Paoli's policy and his aspirations to secede. He was given command over a battalion of Corsican volunteers and promoted to captain in the regular army in 1792, despite exceeding his leave of absence and a dispute between his volunteers and the French garrison in Ajaccio.\\nIn February 1793, Bonaparte took part in the failed French expedition to Sardinia. Following allegations that Paoli had sabotaged the expedition and that his regime was corrupt and incompetent, the French National Convention outlawed him. In early June, Bonaparte and 400 French troops failed to capture Ajaccio from Corsican volunteers and the island was now controlled by Paoli's supporters. When Bonaparte learned that the Corsican assembly had condemned him and his family, the Buonapartes fled to Toulon on the French mainland.\", 'formItem': 'Career', 'chunkId': 'Napoleon-Career-chunk0000', 'chunkSeqId': 0}}]\n",
      "[{'chunkItemInfo': {'text': 'Napoleon\\'s health continued to worsen, and in March 1821 he was confined to bed. In April he wrote two wills declaring that he had been murdered by the British, that the Bourbons would fall and that his son would rule France. He left his fortune to 97 legatees and asked to be buried by the Seine.\\nOn 3 May he was given the last rites but could not take communion due to his illness. He died on 5 May 1821 at age 51. His last words, variously recorded by those present, were either France, l\\'armée, tête d\\'armée, Joséphine (\"France, the army, head of the army, Joséphine\"), or qui recule...à la tête d\\'armée (\"who retreats... at the head of the army\") or \"France, my son, the Army.\"\\nAntommarchi and the British wrote separate autopsy reports, each concluding that Napoleon had died of internal bleeding caused by stomach cancer, the disease that had killed his father. A later theory, based on high concentrations of arsenic found in samples of Napoleon\\'s hair, held that Napoleon had died of arsenic poisoning. However, subsequent studies also found high concentrations of arsenic in hair samples from Napoleon\\'s childhood and from his son and Joséphine. Arsenic was widely used in medicines and products such as hair creams in the 19th century. A 2021 study by an international team of gastrointestinal pathologists once again concluded that Napoleon died of stomach cancer.', 'formItem': 'Death', 'chunkId': 'Napoleon-Death-chunk0000', 'chunkSeqId': 0}}]\n"
     ]
    }
   ],
   "source": [
    "# Each chunk is a small part of the document. To do this, first we need to find all chunks that belong together\n",
    "cypher = \"\"\"\n",
    "   MATCH (from_same_chunk_item:Napoleon_Chunk)\n",
    "    WHERE from_same_chunk_item.formItem = $NapoleonParam\n",
    "    AND from_same_chunk_item.formItem = $NapoleonParam\n",
    "  RETURN from_same_chunk_item {.text, .formItem, .chunkId, .chunkSeqId } as chunkItemInfo\n",
    "    ORDER BY from_same_chunk_item.chunkSeqId ASC\n",
    "    LIMIT 1\n",
    "\"\"\"\n",
    "\n",
    "items = ['General Information', 'Career', 'Death']\n",
    "for item in items:\n",
    "  result = kg.query(cypher, params={'NapoleonParam':item})\n",
    "  print(result)\n",
    "  \n",
    " "
   ]
  },
  {
   "cell_type": "markdown",
   "metadata": {},
   "source": [
    "# 11. Adding NEXT relationship"
   ]
  },
  {
   "cell_type": "code",
   "execution_count": 15,
   "metadata": {},
   "outputs": [
    {
     "name": "stdout",
     "output_type": "stream",
     "text": [
      "for General Information: [{'size(section_chunk_list)': 18}]\n",
      "for Career: [{'size(section_chunk_list)': 34}]\n",
      "for Death: [{'size(section_chunk_list)': 8}]\n"
     ]
    }
   ],
   "source": [
    "# Then we should remember to return all the chunks in order.\n",
    "cypher = \"\"\"\n",
    "  MATCH (from_same_chunk_item:Napoleon_Chunk)\n",
    "  WHERE from_same_chunk_item.formItem = $NapoleonParam\n",
    "    AND from_same_chunk_item.formItem = $NapoleonParam\n",
    "  WITH from_same_chunk_item\n",
    "    ORDER BY from_same_chunk_item.chunkSeqId ASC\n",
    "  WITH collect(from_same_chunk_item) as section_chunk_list\n",
    "    CALL apoc.nodes.link(\n",
    "        section_chunk_list, \n",
    "        \"NEXT\", \n",
    "        {avoidDuplicates: true}\n",
    "    )\n",
    "  RETURN size(section_chunk_list)\n",
    "\"\"\"\n",
    "items = ['General Information', 'Career', 'Death']\n",
    "for item in items:\n",
    "  result = kg.query(cypher, params={'NapoleonParam':item})\n",
    "  print(f\"for {item}: {result}\" )\n"
   ]
  },
  {
   "cell_type": "code",
   "execution_count": 21,
   "metadata": {},
   "outputs": [
    {
     "name": "stdout",
     "output_type": "stream",
     "text": [
      "Node properties are the following:\n",
      "Person {name: STRING},Napoleon_Chunk {chunkId: STRING, formItem: STRING, chunkSeqId: INTEGER, text: STRING, source: STRING, textEmbeddingOpenAI: LIST},Talleyrand_Chunk {chunkId: STRING, formItem: STRING, chunkSeqId: INTEGER, text: STRING, source: STRING, textEmbeddingOpenAI: LIST},Waterloo_Chunk {chunkId: STRING, formItem: STRING, chunkSeqId: INTEGER, text: STRING, source: STRING, textEmbeddingOpenAI: LIST},Event {name: STRING},Career {period: STRING, position: STRING, chunk_info: STRING},Death {date: STRING, location: STRING, chunk_info: STRING},General_info {chunk_info: STRING, knownFor: STRING, nationality: STRING, deathDate: STRING, birthDate: STRING, location: STRING, battleDate: STRING, outcome: STRING, commander: STRING},Reason {chunk_info: STRING, cause: STRING, strategicMistake: STRING, politicalImpact: STRING},Combatant {chunk_info: STRING, frenchCommander: STRING, alliedCommander: STRING, prussianCommander: STRING, mainForces: STRING},Consequence {chunk_info: STRING, immediateResult: STRING, longTermImpact: STRING, geopoliticalEffect: STRING}\n",
      "Relationship properties are the following:\n",
      "\n",
      "The relationships are the following:\n",
      "(:Person)-[:RELATED_TO]->(:Person),(:Person)-[:RELATED_TO]->(:Event),(:Person)-[:HAS_Career_INFO]->(:Career),(:Person)-[:HAS_Death_INFO]->(:Death),(:Person)-[:HAS_General_INFO]->(:General_info),(:Napoleon_Chunk)-[:NEXT]->(:Napoleon_Chunk),(:Talleyrand_Chunk)-[:NEXT]->(:Talleyrand_Chunk),(:Waterloo_Chunk)-[:NEXT]->(:Waterloo_Chunk),(:Event)-[:HAS_Chunk_INFO]->(:Combatant),(:Event)-[:HAS_Chunk_INFO]->(:Consequence),(:Event)-[:HAS_Chunk_INFO]->(:General_info),(:Event)-[:HAS_Chunk_INFO]->(:Reason),(:Career)-[:HAS_Chunk_INFO]->(:Napoleon_Chunk),(:Career)-[:HAS_Chunk_INFO]->(:Talleyrand_Chunk),(:Death)-[:HAS_Chunk_INFO]->(:Napoleon_Chunk),(:Death)-[:HAS_Chunk_INFO]->(:Talleyrand_Chunk),(:General_info)-[:HAS_Chunk_INFO]->(:Napoleon_Chunk),(:General_info)-[:HAS_Chunk_INFO]->(:Talleyrand_Chunk),(:General_info)-[:HAS_Chunk_INFO]->(:Waterloo_Chunk),(:Reason)-[:HAS_Chunk_INFO]->(:Waterloo_Chunk),(:Combatant)-[:HAS_Chunk_INFO]->(:Waterloo_Chunk),(:Consequence)-[:HAS_Chunk_INFO]->(:Waterloo_Chunk)\n"
     ]
    }
   ],
   "source": [
    "kg.refresh_schema()\n",
    "print(kg.schema)"
   ]
  },
  {
   "cell_type": "code",
   "execution_count": null,
   "metadata": {},
   "outputs": [],
   "source": []
  }
 ],
 "metadata": {
  "kernelspec": {
   "display_name": "base",
   "language": "python",
   "name": "python3"
  },
  "language_info": {
   "codemirror_mode": {
    "name": "ipython",
    "version": 3
   },
   "file_extension": ".py",
   "mimetype": "text/x-python",
   "name": "python",
   "nbconvert_exporter": "python",
   "pygments_lexer": "ipython3",
   "version": "3.12.1"
  }
 },
 "nbformat": 4,
 "nbformat_minor": 2
}
