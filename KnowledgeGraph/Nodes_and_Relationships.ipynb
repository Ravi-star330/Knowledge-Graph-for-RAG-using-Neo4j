{
 "cells": [
  {
   "cell_type": "code",
   "execution_count": 1,
   "metadata": {},
   "outputs": [],
   "source": [
    "from dotenv import load_dotenv\n",
    "import os\n",
    "\n",
    "# Langchain\n",
    "from langchain_community.graphs import Neo4jGraph\n",
    "import chunking\n",
    "# Warning control\n",
    "import warnings\n",
    "warnings.filterwarnings(\"ignore\")"
   ]
  },
  {
   "cell_type": "code",
   "execution_count": 2,
   "metadata": {},
   "outputs": [],
   "source": [
    "# Load from environment\n",
    "load_dotenv('.env', override=True)\n",
    "NEO4J_URI = os.getenv('NEO4J_URI')\n",
    "NEO4J_USERNAME = os.getenv('NEO4J_USERNAME')\n",
    "NEO4J_PASSWORD = os.getenv('NEO4J_PASSWORD')\n",
    "NEO4J_DATABASE = os.getenv('NEO4J_DATABASE') or 'neo4j'\n",
    "OPENAI_API_KEY = os.getenv('OPENAI_API_KEY')\n",
    "OPENAI_ENDPOINT = os.getenv('OPENAI_BASE_URL') + '/embeddings'\n",
    "\n",
    "\n",
    "kg = Neo4jGraph(\n",
    "    url=NEO4J_URI, username=NEO4J_USERNAME, password=NEO4J_PASSWORD, database=NEO4J_DATABASE\n",
    ")"
   ]
  },
  {
   "cell_type": "code",
   "execution_count": 14,
   "metadata": {},
   "outputs": [
    {
     "data": {
      "text/plain": [
       "[]"
      ]
     },
     "execution_count": 14,
     "metadata": {},
     "output_type": "execute_result"
    }
   ],
   "source": [
    "cypher = \"\"\" \n",
    "// Person Nodes\n",
    "CREATE (napoleon:Person {\n",
    "    name: \"Napoleon Bonaparte\"\n",
    "})\n",
    "\n",
    "\n",
    "CREATE (talleyrand:Person {\n",
    "    name: \"Charles-Maurice de Talleyrand\"\n",
    "})\n",
    "\n",
    "// Event node\n",
    "CREATE (waterloo:Event {\n",
    "    name: \"Battle of Waterloo\"\n",
    "})\n",
    "\n",
    "\n",
    "// waterloo nodes\n",
    "CREATE (waterlooGeneral:General_info {\n",
    "    chunk_info: \"General information\",\n",
    "    battleDate: \"1815-06-18\",\n",
    "    location: \"Waterloo, Belgium\",\n",
    "    outcome: \"Decisive defeat for Napoleon\",\n",
    "    commander: \"Duke of Wellington\"\n",
    "})\n",
    "CREATE (waterlooReason:Reason {\n",
    "    chunk_info: \"Reason\",\n",
    "    cause: \"Napoleon's return from exile\",\n",
    "    strategicMistake: \"Failure to unite forces before battle\",\n",
    "    politicalImpact: \"End of the Napoleonic Wars\"\n",
    "})\n",
    "\n",
    "CREATE (waterlooCombatant:Combatant {\n",
    "    chunk_info: \"Combatant\",\n",
    "    frenchCommander: \"Napoleon Bonaparte\",\n",
    "    alliedCommander: \"Duke of Wellington\",\n",
    "    prussianCommander: \"Gebhard Leberecht von Blücher\",\n",
    "    mainForces: \"French Army, British Army, Prussian Army\"\n",
    "})\n",
    "\n",
    "CREATE (waterlooConsequence:Consequence {\n",
    "    chunk_info: \"Consequence\",\n",
    "    immediateResult: \"Napoleon's second abdication\",\n",
    "    longTermImpact: \"Restoration of the Bourbon monarchy\",\n",
    "    geopoliticalEffect: \"Redrawing of European borders\"\n",
    "})\n",
    "\n",
    "\n",
    "\n",
    "\n",
    "// Career Nodes\n",
    "CREATE (napoleonGeneral:General_info {\n",
    "    chunk_info: \"General Information\",\n",
    "    birthDate: \"1769-08-15\",\n",
    "    deathDate: \"1821-05-05\",\n",
    "    nationality: \"French\",\n",
    "    knownFor: \"Military and political leader\"\n",
    "})\n",
    "\n",
    "CREATE (talleyrandGeneral:General_info {\n",
    "    chunk_info: \"General Information\",\n",
    "    birthDate: \"1754-02-02\",\n",
    "    deathDate: \"1838-05-17\",\n",
    "    nationality: \"French\",\n",
    "    knownFor: \"Diplomat and statesman\"\n",
    "})\n",
    "\n",
    "\n",
    "CREATE (napoleonCareer:Career {\n",
    "    position: \"Emperor\",\n",
    "    period: \"1804-1814\",\n",
    "    chunk_info: \"Career\"\n",
    "})\n",
    "\n",
    "CREATE (talleyrandCareer:Career {\n",
    "    position: \"Foreign Minister\",\n",
    "    period: \"1799-1807\",\n",
    "    chunk_info: \"Career\"\n",
    "})\n",
    "\n",
    "// Death Nodes\n",
    "CREATE (napoleonDeath:Death {\n",
    "    date: \"1821-05-05\",\n",
    "    location: \"Longwood, Saint Helena\",\n",
    "    chunk_info: \"Death\"\n",
    "})\n",
    "\n",
    "CREATE (talleyrandDeath:Death {\n",
    "    date: \"1838-05-17\",\n",
    "    location: \"Paris, France\",\n",
    "    chunk_info: \"Death\"\n",
    "})\n",
    "// Create relationships for career and death information\n",
    "CREATE (napoleon)-[:HAS_Career_INFO]->(napoleonCareer)\n",
    "CREATE (napoleon)-[:HAS_Death_INFO]->(napoleonDeath)\n",
    "CREATE (napoleon)-[:HAS_General_INFO]->(napoleonGeneral)\n",
    "\n",
    "CREATE (talleyrand)-[:HAS_Career_INFO]->(talleyrandCareer)\n",
    "CREATE (talleyrand)-[:HAS_Death_INFO]->(talleyrandDeath)\n",
    "CREATE (talleyrand)-[:HAS_General_INFO]->(talleyrandGeneral)\n",
    "\n",
    "\n",
    "// Create relationships between Person nodes\n",
    "CREATE (napoleon)-[:RELATED_TO]->(talleyrand)\n",
    "CREATE (talleyrand)-[:RELATED_TO]->(napoleon)\n",
    "// Create relationships between Person nodes and Event\n",
    "CREATE (napoleon)-[:RELATED_TO]->(waterloo)\n",
    "CREATE (talleyrand)-[:RELATED_TO]->(waterloo)\n",
    "\n",
    "\n",
    "// Create relationships between waerloo nodes\n",
    "CREATE (waterloo)-[:HAS_General_INFO]->(waterlooGeneral)\n",
    "CREATE (waterloo)-[:HAS_Reason_INFO]->(waterlooReason)\n",
    "CREATE (waterloo)-[:HAS_Combatant_INFO]->(waterlooCombatant)\n",
    "CREATE (waterloo)-[:HAS_Consequence_INFO]->(waterlooConsequence)\n",
    "\"\"\"\n",
    "\n",
    "\n",
    "\n",
    "kg.query(cypher)"
   ]
  },
  {
   "cell_type": "code",
   "execution_count": 15,
   "metadata": {},
   "outputs": [
    {
     "data": {
      "text/plain": [
       "[{'count(r)': 34}]"
      ]
     },
     "execution_count": 15,
     "metadata": {},
     "output_type": "execute_result"
    }
   ],
   "source": [
    "# Connect napoleon Career node to each chunk of napoleon career\n",
    "cypher = \"\"\" \n",
    "MATCH (napoleonCareer:Career {position: \"Emperor\"}), (careerChunks:Napoleon_Chunk)\n",
    "  WHERE napoleonCareer.chunk_info = careerChunks.formItem \n",
    "    WITH napoleonCareer, careerChunks\n",
    "MERGE (napoleonCareer)-[r:HAS_Chunk_INFO]->(careerChunks)\n",
    "RETURN count(r)\n",
    "\"\"\"\n",
    "\n",
    "kg.query(cypher)"
   ]
  },
  {
   "cell_type": "code",
   "execution_count": 16,
   "metadata": {},
   "outputs": [
    {
     "data": {
      "text/plain": [
       "[{'count(r)': 8}]"
      ]
     },
     "execution_count": 16,
     "metadata": {},
     "output_type": "execute_result"
    }
   ],
   "source": [
    "# Connect napoleon death node to each chunk of napoleon death\n",
    "cypher = \"\"\" \n",
    "MATCH (napoleonDeath:Death {location: \"Longwood, Saint Helena\"}), (deathChunks:Napoleon_Chunk)\n",
    "  WHERE napoleonDeath.chunk_info = deathChunks.formItem \n",
    "    WITH napoleonDeath, deathChunks\n",
    "MERGE (napoleonDeath)-[r:HAS_Chunk_INFO]->(deathChunks)\n",
    "RETURN count(r)\n",
    "\"\"\"\n",
    "\n",
    "kg.query(cypher)"
   ]
  },
  {
   "cell_type": "code",
   "execution_count": 17,
   "metadata": {},
   "outputs": [
    {
     "data": {
      "text/plain": [
       "[{'count(r)': 18}]"
      ]
     },
     "execution_count": 17,
     "metadata": {},
     "output_type": "execute_result"
    }
   ],
   "source": [
    "# Connect napoleon person node to each chunk of napoleon general information\n",
    "cypher = \"\"\" \n",
    "MATCH (napoleonGeneral:General_info {knownFor: \"Military and political leader\"}), (generalChunks:Napoleon_Chunk)\n",
    "  WHERE napoleonGeneral.chunk_info = generalChunks.formItem\n",
    "    WITH napoleonGeneral, generalChunks\n",
    "MERGE (napoleonGeneral)-[r:HAS_Chunk_INFO]->(generalChunks)\n",
    "RETURN count(r)\n",
    "\"\"\"\n",
    "\n",
    "kg.query(cypher)"
   ]
  },
  {
   "cell_type": "code",
   "execution_count": 18,
   "metadata": {},
   "outputs": [
    {
     "data": {
      "text/plain": [
       "[{'count(r)': 13}]"
      ]
     },
     "execution_count": 18,
     "metadata": {},
     "output_type": "execute_result"
    }
   ],
   "source": [
    "# Connect Talleyrand Career node to each chunk of Talleyrand career\n",
    "cypher = \"\"\" \n",
    "MATCH (TalleyrandCareer:Career {position: \"Foreign Minister\"}), (careerChunks:Talleyrand_Chunk)\n",
    "  WHERE TalleyrandCareer.chunk_info = careerChunks.formItem \n",
    "    WITH TalleyrandCareer, careerChunks\n",
    "MERGE (TalleyrandCareer)-[r:HAS_Chunk_INFO]->(careerChunks)\n",
    "RETURN count(r)\n",
    "\"\"\"\n",
    "\n",
    "kg.query(cypher)"
   ]
  },
  {
   "cell_type": "code",
   "execution_count": 19,
   "metadata": {},
   "outputs": [
    {
     "data": {
      "text/plain": [
       "[{'count(r)': 1}]"
      ]
     },
     "execution_count": 19,
     "metadata": {},
     "output_type": "execute_result"
    }
   ],
   "source": [
    "# Connect Talleyrand Career node to each chunk of Talleyrand career\n",
    "cypher = \"\"\" \n",
    "MATCH (TalleyrandDeath:Death {location: \"Paris, France\"}), (careerChunks:Talleyrand_Chunk)\n",
    "  WHERE TalleyrandDeath.chunk_info = careerChunks.formItem \n",
    "    WITH TalleyrandDeath, careerChunks\n",
    "MERGE (TalleyrandDeath)-[r:HAS_Chunk_INFO]->(careerChunks)\n",
    "RETURN count(r)\n",
    "\"\"\"\n",
    "\n",
    "kg.query(cypher)"
   ]
  },
  {
   "cell_type": "code",
   "execution_count": 20,
   "metadata": {},
   "outputs": [
    {
     "data": {
      "text/plain": [
       "[{'count(r)': 12}]"
      ]
     },
     "execution_count": 20,
     "metadata": {},
     "output_type": "execute_result"
    }
   ],
   "source": [
    "# Connect Talleyrand general node to each chunk of Talleyrand general information\n",
    "cypher = \"\"\" \n",
    "MATCH (TalleyrandGeneral:General_info {knownFor: \"Diplomat and statesman\"}), (generalChunks:Talleyrand_Chunk)\n",
    "  WHERE TalleyrandGeneral.chunk_info = generalChunks.formItem\n",
    "    WITH TalleyrandGeneral, generalChunks\n",
    "MERGE (TalleyrandGeneral)-[r:HAS_Chunk_INFO]->(generalChunks)\n",
    "RETURN count(r)\n",
    "\"\"\"\n",
    "\n",
    "kg.query(cypher)"
   ]
  },
  {
   "cell_type": "code",
   "execution_count": 21,
   "metadata": {},
   "outputs": [
    {
     "data": {
      "text/plain": [
       "[{'count(r)': 5}]"
      ]
     },
     "execution_count": 21,
     "metadata": {},
     "output_type": "execute_result"
    }
   ],
   "source": [
    "# Connect waterloo general node to each chunk of waterloo general information\n",
    "cypher = \"\"\" \n",
    "MATCH (waterlooGeneral:General_info {chunk_info: \"General information\"}), (waterlooChunks:Waterloo_Chunk)\n",
    "    WHERE waterlooGeneral.chunk_info = waterlooChunks.formItem\n",
    "    WITH waterlooGeneral, waterlooChunks\n",
    "MERGE (waterlooGeneral)-[r:HAS_Chunk_INFO]->(waterlooChunks)\n",
    "RETURN count(r)\n",
    "\"\"\"\n",
    "\n",
    "kg.query(cypher)"
   ]
  },
  {
   "cell_type": "code",
   "execution_count": 22,
   "metadata": {},
   "outputs": [
    {
     "data": {
      "text/plain": [
       "[{'count(r)': 5}]"
      ]
     },
     "execution_count": 22,
     "metadata": {},
     "output_type": "execute_result"
    }
   ],
   "source": [
    "# Connect waterloo Reason node to each chunk of waterloo Reason information\n",
    "cypher = \"\"\" \n",
    "MATCH (waterlooReason:Reason {chunk_info: \"Reason\"}), (waterlooChunks:Waterloo_Chunk)\n",
    "    WHERE waterlooReason.chunk_info = waterlooChunks.formItem\n",
    "    WITH waterlooReason, waterlooChunks\n",
    "MERGE (waterlooReason)-[r:HAS_Chunk_INFO]->(waterlooChunks)\n",
    "RETURN count(r)\n",
    "\"\"\"\n",
    "\n",
    "kg.query(cypher)"
   ]
  },
  {
   "cell_type": "code",
   "execution_count": 23,
   "metadata": {},
   "outputs": [
    {
     "data": {
      "text/plain": [
       "[{'count(r)': 23}]"
      ]
     },
     "execution_count": 23,
     "metadata": {},
     "output_type": "execute_result"
    }
   ],
   "source": [
    "# Connect waterloo Combatant node to each chunk of waterloo Combatant information\n",
    "cypher = \"\"\" \n",
    "MATCH (waterlooCombatant:Combatant {chunk_info: \"Combatant\"}), (waterlooChunks:Waterloo_Chunk)\n",
    "    WHERE waterlooCombatant.chunk_info = waterlooChunks.formItem\n",
    "    WITH waterlooCombatant, waterlooChunks\n",
    "MERGE (waterlooCombatant)-[r:HAS_Chunk_INFO]->(waterlooChunks)\n",
    "RETURN count(r)\n",
    "\"\"\"\n",
    "\n",
    "kg.query(cypher)"
   ]
  },
  {
   "cell_type": "code",
   "execution_count": 24,
   "metadata": {},
   "outputs": [
    {
     "data": {
      "text/plain": [
       "[{'count(r)': 28}]"
      ]
     },
     "execution_count": 24,
     "metadata": {},
     "output_type": "execute_result"
    }
   ],
   "source": [
    "# Connect waterloo Consequence node to each chunk of waterloo Consequence information\n",
    "cypher = \"\"\" \n",
    "MATCH (waterlooConsequence:Consequence {chunk_info: \"Consequence\"}), (waterlooChunks:Waterloo_Chunk)\n",
    "    WHERE waterlooConsequence.chunk_info = waterlooChunks.formItem\n",
    "    WITH waterlooConsequence, waterlooChunks\n",
    "MERGE (waterlooConsequence)-[r:HAS_Chunk_INFO]->(waterlooChunks)\n",
    "RETURN count(r)\n",
    "\"\"\"\n",
    "\n",
    "kg.query(cypher)"
   ]
  },
  {
   "cell_type": "code",
   "execution_count": null,
   "metadata": {},
   "outputs": [],
   "source": []
  },
  {
   "cell_type": "code",
   "execution_count": null,
   "metadata": {},
   "outputs": [],
   "source": []
  },
  {
   "cell_type": "code",
   "execution_count": null,
   "metadata": {},
   "outputs": [],
   "source": []
  }
 ],
 "metadata": {
  "kernelspec": {
   "display_name": "base",
   "language": "python",
   "name": "python3"
  },
  "language_info": {
   "codemirror_mode": {
    "name": "ipython",
    "version": 3
   },
   "file_extension": ".py",
   "mimetype": "text/x-python",
   "name": "python",
   "nbconvert_exporter": "python",
   "pygments_lexer": "ipython3",
   "version": "3.12.1"
  }
 },
 "nbformat": 4,
 "nbformat_minor": 2
}
