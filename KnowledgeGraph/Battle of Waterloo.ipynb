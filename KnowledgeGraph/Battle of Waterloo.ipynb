{
 "cells": [
  {
   "cell_type": "code",
   "execution_count": 1,
   "metadata": {},
   "outputs": [],
   "source": [
    "from dotenv import load_dotenv\n",
    "import os\n",
    "\n",
    "# Langchain\n",
    "from langchain_community.graphs import Neo4jGraph\n",
    "import chunking\n",
    "# Warning control\n",
    "import warnings\n",
    "warnings.filterwarnings(\"ignore\")"
   ]
  },
  {
   "cell_type": "code",
   "execution_count": 2,
   "metadata": {},
   "outputs": [],
   "source": [
    "# Load from environment\n",
    "load_dotenv('.env', override=True)\n",
    "NEO4J_URI = os.getenv('NEO4J_URI')\n",
    "NEO4J_USERNAME = os.getenv('NEO4J_USERNAME')\n",
    "NEO4J_PASSWORD = os.getenv('NEO4J_PASSWORD')\n",
    "NEO4J_DATABASE = os.getenv('NEO4J_DATABASE') or 'neo4j'\n",
    "OPENAI_API_KEY = os.getenv('OPENAI_API_KEY')\n",
    "OPENAI_ENDPOINT = os.getenv('OPENAI_BASE_URL') + '/embeddings'\n",
    "\n",
    "\n",
    "kg = Neo4jGraph(\n",
    "    url=NEO4J_URI, username=NEO4J_USERNAME, password=NEO4J_PASSWORD, database=NEO4J_DATABASE\n",
    ")"
   ]
  },
  {
   "cell_type": "markdown",
   "metadata": {},
   "source": [
    "# 1. Splitting the Chunks"
   ]
  },
  {
   "cell_type": "code",
   "execution_count": 3,
   "metadata": {},
   "outputs": [],
   "source": [
    "#  Load JSON file\n",
    "file = \"../data/json/Battle of Waterloo.json\""
   ]
  },
  {
   "cell_type": "code",
   "execution_count": 4,
   "metadata": {},
   "outputs": [
    {
     "name": "stdout",
     "output_type": "stream",
     "text": [
      "['General information', 'Reason', 'Combatant', 'Consequence', 'Source']\n",
      "Processing General information from ../data/json/Battle of Waterloo.json\n",
      "\tSplit into 5 chunks\n",
      "Processing Reason from ../data/json/Battle of Waterloo.json\n",
      "\tSplit into 5 chunks\n",
      "Processing Combatant from ../data/json/Battle of Waterloo.json\n",
      "\tSplit into 23 chunks\n",
      "Processing Consequence from ../data/json/Battle of Waterloo.json\n",
      "\tSplit into 28 chunks\n",
      "Processing Source from ../data/json/Battle of Waterloo.json\n",
      "\tSplit into 1 chunks\n"
     ]
    }
   ],
   "source": [
    "file_chunks = chunking.split_data_from_file(file)"
   ]
  },
  {
   "cell_type": "markdown",
   "metadata": {},
   "source": [
    "# 2. Create Chunk node in KnowledgeGraph with properties extracted from file"
   ]
  },
  {
   "cell_type": "code",
   "execution_count": 5,
   "metadata": {},
   "outputs": [
    {
     "data": {
      "text/plain": [
       "[{'mergedChunk': {'formItem': 'General information',\n",
       "   'text': 'The Battle of Waterloo  was fought on Sunday 18 June 1815, near Waterloo (at that time in the United Kingdom of the Netherlands, now in Belgium), marking  the end of the Napoleonic Wars. A French army under the command of Napoleon was defeated by two armies of the Seventh Coalition. One of these was a British-led force with units from the United Kingdom, the Netherlands, Hanover, Brunswick, and Nassau, under the command of the Duke of Wellington (often referred to as the Anglo-allied army or Wellington\\'s army). The other comprised three corps (the 1st, 2nd and 4th corps) of the Prussian army under Field Marshal Blücher; a fourth corps (the 3rd) of this army fought at the Battle of Wavre on the same day. The battle was known contemporarily as the Battle of Mont Saint-Jean in France (after the hamlet of Mont-Saint-Jean) and La Belle Alliance in Prussia (\"the Beautiful Alliance\"; after the inn of La Belle Alliance).\\nUpon Napoleon\\'s return to power in March 1815 (beginning the Hundred Days), many states that had previously opposed him formed the Seventh Coalition and hurriedly mobilised their armies. Wellington\\'s and Blücher\\'s armies were cantoned close to the northeastern border of France. Napoleon planned to attack them separately, before they could link up and invade France with other members of the coalition.',\n",
       "   'source': 'Waterloo History',\n",
       "   'chunkId': 'Battle of Waterloo-General information-chunk0000',\n",
       "   'chunkSeqId': 0}}]"
      ]
     },
     "execution_count": 5,
     "metadata": {},
     "output_type": "execute_result"
    }
   ],
   "source": [
    "# Create Napoleon_Chunk node and its properties\n",
    "merge_chunk_node_query = \"\"\"\n",
    "MERGE(mergedChunk:Waterloo_Chunk {chunkId: $chunkParam.chunkId})\n",
    "    ON CREATE SET\n",
    "        mergedChunk.text = $chunkParam.text, \n",
    "        mergedChunk.source = $chunkParam.source, \n",
    "        mergedChunk.formItem = $chunkParam.formItem, \n",
    "        mergedChunk.chunkSeqId = $chunkParam.chunkSeqId\n",
    "RETURN mergedChunk\n",
    "\"\"\"\n",
    "kg.query(merge_chunk_node_query, \n",
    "         params={'chunkParam':file_chunks[0]})"
   ]
  },
  {
   "cell_type": "markdown",
   "metadata": {},
   "source": [
    "# 3. Create a uniqueness constraint to avoid duplicate chunks"
   ]
  },
  {
   "cell_type": "code",
   "execution_count": 7,
   "metadata": {},
   "outputs": [
    {
     "data": {
      "text/plain": [
       "[]"
      ]
     },
     "execution_count": 7,
     "metadata": {},
     "output_type": "execute_result"
    }
   ],
   "source": [
    "#  Create a uniqueness constraint to avoid duplicate chunks\n",
    "avoid_duplicate_chunks = \"\"\"\n",
    "CREATE CONSTRAINT unique_chunk IF NOT EXISTS \n",
    "    FOR (nc:Waterloo_Chunk) REQUIRE nc.chunkId IS UNIQUE\n",
    "\"\"\"\n",
    "\n",
    "kg.query(avoid_duplicate_chunks)\n"
   ]
  },
  {
   "cell_type": "markdown",
   "metadata": {},
   "source": [
    "# 4. Adding all chunks data to knowledegeGraph"
   ]
  },
  {
   "cell_type": "code",
   "execution_count": 8,
   "metadata": {},
   "outputs": [
    {
     "name": "stdout",
     "output_type": "stream",
     "text": [
      "Creating `:Chunk` node for chunk ID Battle of Waterloo-General information-chunk0000\n",
      "Creating `:Chunk` node for chunk ID Battle of Waterloo-General information-chunk0001\n",
      "Creating `:Chunk` node for chunk ID Battle of Waterloo-General information-chunk0002\n",
      "Creating `:Chunk` node for chunk ID Battle of Waterloo-General information-chunk0003\n",
      "Creating `:Chunk` node for chunk ID Battle of Waterloo-General information-chunk0004\n",
      "Creating `:Chunk` node for chunk ID Battle of Waterloo-Reason-chunk0000\n",
      "Creating `:Chunk` node for chunk ID Battle of Waterloo-Reason-chunk0001\n",
      "Creating `:Chunk` node for chunk ID Battle of Waterloo-Reason-chunk0002\n",
      "Creating `:Chunk` node for chunk ID Battle of Waterloo-Reason-chunk0003\n",
      "Creating `:Chunk` node for chunk ID Battle of Waterloo-Reason-chunk0004\n",
      "Creating `:Chunk` node for chunk ID Battle of Waterloo-Combatant-chunk0000\n",
      "Creating `:Chunk` node for chunk ID Battle of Waterloo-Combatant-chunk0001\n",
      "Creating `:Chunk` node for chunk ID Battle of Waterloo-Combatant-chunk0002\n",
      "Creating `:Chunk` node for chunk ID Battle of Waterloo-Combatant-chunk0003\n",
      "Creating `:Chunk` node for chunk ID Battle of Waterloo-Combatant-chunk0004\n",
      "Creating `:Chunk` node for chunk ID Battle of Waterloo-Combatant-chunk0005\n",
      "Creating `:Chunk` node for chunk ID Battle of Waterloo-Combatant-chunk0006\n",
      "Creating `:Chunk` node for chunk ID Battle of Waterloo-Combatant-chunk0007\n",
      "Creating `:Chunk` node for chunk ID Battle of Waterloo-Combatant-chunk0008\n",
      "Creating `:Chunk` node for chunk ID Battle of Waterloo-Combatant-chunk0009\n",
      "Creating `:Chunk` node for chunk ID Battle of Waterloo-Combatant-chunk0010\n",
      "Creating `:Chunk` node for chunk ID Battle of Waterloo-Combatant-chunk0011\n",
      "Creating `:Chunk` node for chunk ID Battle of Waterloo-Combatant-chunk0012\n",
      "Creating `:Chunk` node for chunk ID Battle of Waterloo-Combatant-chunk0013\n",
      "Creating `:Chunk` node for chunk ID Battle of Waterloo-Combatant-chunk0014\n",
      "Creating `:Chunk` node for chunk ID Battle of Waterloo-Combatant-chunk0015\n",
      "Creating `:Chunk` node for chunk ID Battle of Waterloo-Combatant-chunk0016\n",
      "Creating `:Chunk` node for chunk ID Battle of Waterloo-Combatant-chunk0017\n",
      "Creating `:Chunk` node for chunk ID Battle of Waterloo-Combatant-chunk0018\n",
      "Creating `:Chunk` node for chunk ID Battle of Waterloo-Combatant-chunk0019\n",
      "Creating `:Chunk` node for chunk ID Battle of Waterloo-Combatant-chunk0020\n",
      "Creating `:Chunk` node for chunk ID Battle of Waterloo-Combatant-chunk0021\n",
      "Creating `:Chunk` node for chunk ID Battle of Waterloo-Combatant-chunk0022\n",
      "Creating `:Chunk` node for chunk ID Battle of Waterloo-Consequence-chunk0000\n",
      "Creating `:Chunk` node for chunk ID Battle of Waterloo-Consequence-chunk0001\n",
      "Creating `:Chunk` node for chunk ID Battle of Waterloo-Consequence-chunk0002\n",
      "Creating `:Chunk` node for chunk ID Battle of Waterloo-Consequence-chunk0003\n",
      "Creating `:Chunk` node for chunk ID Battle of Waterloo-Consequence-chunk0004\n",
      "Creating `:Chunk` node for chunk ID Battle of Waterloo-Consequence-chunk0005\n",
      "Creating `:Chunk` node for chunk ID Battle of Waterloo-Consequence-chunk0006\n",
      "Creating `:Chunk` node for chunk ID Battle of Waterloo-Consequence-chunk0007\n",
      "Creating `:Chunk` node for chunk ID Battle of Waterloo-Consequence-chunk0008\n",
      "Creating `:Chunk` node for chunk ID Battle of Waterloo-Consequence-chunk0009\n",
      "Creating `:Chunk` node for chunk ID Battle of Waterloo-Consequence-chunk0010\n",
      "Creating `:Chunk` node for chunk ID Battle of Waterloo-Consequence-chunk0011\n",
      "Creating `:Chunk` node for chunk ID Battle of Waterloo-Consequence-chunk0012\n",
      "Creating `:Chunk` node for chunk ID Battle of Waterloo-Consequence-chunk0013\n",
      "Creating `:Chunk` node for chunk ID Battle of Waterloo-Consequence-chunk0014\n",
      "Creating `:Chunk` node for chunk ID Battle of Waterloo-Consequence-chunk0015\n",
      "Creating `:Chunk` node for chunk ID Battle of Waterloo-Consequence-chunk0016\n",
      "Creating `:Chunk` node for chunk ID Battle of Waterloo-Consequence-chunk0017\n",
      "Creating `:Chunk` node for chunk ID Battle of Waterloo-Consequence-chunk0018\n",
      "Creating `:Chunk` node for chunk ID Battle of Waterloo-Consequence-chunk0019\n",
      "Creating `:Chunk` node for chunk ID Battle of Waterloo-Consequence-chunk0020\n",
      "Creating `:Chunk` node for chunk ID Battle of Waterloo-Consequence-chunk0021\n",
      "Creating `:Chunk` node for chunk ID Battle of Waterloo-Consequence-chunk0022\n",
      "Creating `:Chunk` node for chunk ID Battle of Waterloo-Consequence-chunk0023\n",
      "Creating `:Chunk` node for chunk ID Battle of Waterloo-Consequence-chunk0024\n",
      "Creating `:Chunk` node for chunk ID Battle of Waterloo-Consequence-chunk0025\n",
      "Creating `:Chunk` node for chunk ID Battle of Waterloo-Consequence-chunk0026\n",
      "Creating `:Chunk` node for chunk ID Battle of Waterloo-Consequence-chunk0027\n",
      "Creating `:Chunk` node for chunk ID Battle of Waterloo-Source-chunk0000\n",
      "Created 62 nodes\n"
     ]
    }
   ],
   "source": [
    "node_count = 0\n",
    "for chunk in file_chunks:\n",
    "    print(f\"Creating `:Chunk` node for chunk ID {chunk['chunkId']}\")\n",
    "    kg.query(merge_chunk_node_query, \n",
    "            params={\n",
    "                'chunkParam': chunk\n",
    "            })\n",
    "    node_count += 1\n",
    "print(f\"Created {node_count} nodes\")"
   ]
  },
  {
   "cell_type": "markdown",
   "metadata": {},
   "source": [
    "# 5. Create a VectorIndex for the Napoleon_Chunk"
   ]
  },
  {
   "cell_type": "code",
   "execution_count": 9,
   "metadata": {},
   "outputs": [
    {
     "data": {
      "text/plain": [
       "[]"
      ]
     },
     "execution_count": 9,
     "metadata": {},
     "output_type": "execute_result"
    }
   ],
   "source": [
    "VectorIndex = \"\"\"\n",
    "         CREATE VECTOR INDEX `WaterlooOpenAI` IF NOT EXISTS\n",
    "          FOR (nc:Napoleon_Chunk) ON (nc.textEmbeddingOpenAI) \n",
    "          OPTIONS { indexConfig: {\n",
    "            `vector.dimensions`: 1536,\n",
    "            `vector.similarity_function`: 'cosine'    \n",
    "         }}\n",
    "\"\"\"\n",
    "\n",
    "kg.query(VectorIndex)\n"
   ]
  },
  {
   "cell_type": "markdown",
   "metadata": {},
   "source": [
    "# 6. Embedding the text data using a provider and add it to the Napoleon_Chunk node as a property named textEmbeddingOpenAI"
   ]
  },
  {
   "cell_type": "code",
   "execution_count": 10,
   "metadata": {
    "vscode": {
     "languageId": "powershell"
    }
   },
   "outputs": [
    {
     "data": {
      "text/plain": [
       "[]"
      ]
     },
     "execution_count": 10,
     "metadata": {},
     "output_type": "execute_result"
    }
   ],
   "source": [
    "kg.query(\"\"\"\n",
    "    MATCH (Waterloo_Chunk:Waterloo_Chunk) WHERE Waterloo_Chunk.textEmbeddingOpenAI IS NULL\n",
    "    WITH Waterloo_Chunk, genai.vector.encode(\n",
    "      Waterloo_Chunk.text, \n",
    "      \"OpenAI\", \n",
    "      {\n",
    "        token: $openAiApiKey, \n",
    "        endpoint: $openAiEndpoint\n",
    "      }) AS vector\n",
    "    CALL db.create.setNodeVectorProperty(Waterloo_Chunk, \"textEmbeddingOpenAI\", vector)\n",
    "    \"\"\", \n",
    "    params={\"openAiApiKey\":OPENAI_API_KEY, \"openAiEndpoint\": OPENAI_ENDPOINT} )"
   ]
  },
  {
   "cell_type": "markdown",
   "metadata": {
    "vscode": {
     "languageId": "powershell"
    }
   },
   "source": [
    "# Optional: 6.1. If you want to Embed data using HuggingFace use this part"
   ]
  },
  {
   "cell_type": "code",
   "execution_count": 10,
   "metadata": {
    "vscode": {
     "languageId": "powershell"
    }
   },
   "outputs": [],
   "source": [
    "# # I am using T5 base but you can add more model in LLM file for yourself\n",
    "# embedd_model = T5.t5_model()\n",
    "# chunks = kg.query(\"MATCH (Napoleon_Chunk:Napoleon_Chunk) WHERE Napoleon_Chunk.textEmbedding IS NULL RETURN id(Napoleon_Chunk) as id, Napoleon_Chunk.text as text\")\n",
    "\n",
    "\n",
    "# for chunk in chunks:\n",
    "#     text = chunk[\"text\"]\n",
    "#     print(f\"Embedding Chunk {chunk['id']}\")\n",
    "#     vector = embedd_model.embed([text])\n",
    "\n",
    "#     vector_list = vector.tolist()\n",
    "#     print(vector_list)\n",
    "\n",
    "#     kg.query(\n",
    "#         \"\"\"\n",
    "#         MATCH (Napoleon_Chunk:Napoleon_Chunk) WHERE id(Napoleon_Chunk) = $id\n",
    "#         SET Napoleon_Chunk.textEmbedding = $vector\n",
    "#         \"\"\",\n",
    "#         params={\"id\": chunk[\"id\"], \"vector\": vector_list}\n",
    "#     )"
   ]
  },
  {
   "cell_type": "markdown",
   "metadata": {},
   "source": [
    "# 9. Finding all Chunks from the same formItem"
   ]
  },
  {
   "cell_type": "code",
   "execution_count": 12,
   "metadata": {},
   "outputs": [
    {
     "name": "stdout",
     "output_type": "stream",
     "text": [
      "[{'chunkItemInfo': {'text': \"On 13 March 1815, six days before Napoleon reached Paris, the powers at the Congress of Vienna declared him an outlaw. Four days later, the United Kingdom, Russia, Austria, and Prussia mobilised armies to defeat Napoleon. Critically outnumbered, Napoleon knew that once his attempts at dissuading one or more members of the Seventh Coalition from invading France had failed, his only chance of remaining in power was to attack before the coalition mobilised.\\nHad Napoleon succeeded in destroying the existing coalition forces south of Brussels before they were reinforced, he might have been able to drive the British back to the sea and knock the Prussians out of the war. Crucially, this would have bought him time to recruit and train more men before turning his armies against the Austrians and Russians.\\nAn additional consideration for Napoleon was that a French victory might cause French-speaking sympathisers in Belgium to launch a friendly revolution. Also, coalition troops in Belgium were largely second-line, as many units were of dubious quality and loyalty.\\nThe initial dispositions of Wellington, the British commander, were intended to counter the threat of Napoleon enveloping the Coalition armies by moving through Mons to the south-west of Brussels. This would have pushed Wellington closer to the Prussian forces, led by Gebhard Leberecht von Blücher, but might have cut Wellington's communications with his base at Ostend. In order to delay Wellington's deployment, Napoleon spread false intelligence which suggested that Wellington's supply chain from the channel ports would be cut.\", 'formItem': 'Reason', 'chunkId': 'Battle of Waterloo-Reason-chunk0000', 'chunkSeqId': 0}}]\n",
      "[{'chunkItemInfo': {'text': 'The 80 guns of Napoleon\\'s grande batterie drew up in the centre. These opened fire at 11:50, according to Lord Hill (commander of the Anglo-allied II Corps),[m] while other sources put the time between noon and 13:30. The grande batterie was too far back to aim accurately, and the only other troops they could see were skirmishers of the regiments of Kempt and Pack, and Perponcher\\'s 2nd Dutch division (the others were employing Wellington\\'s characteristic \"reverse slope defence\").[n]\\nThe bombardment caused a large number of casualties. Although some projectiles buried themselves in the soft soil, most found their marks on the reverse slope of the ridge. The bombardment forced the cavalry of the Union Brigade (in third line) to move to its left, to reduce their casualty rate.\\nSection: Napoleon spots the Prussians[edit]\\nAt about 13:15, Napoleon saw the first columns of Prussians around the village of Lasne-Chapelle-Saint-Lambert, 4 to 5 miles (6.4 to 8.0\\xa0km) away from his right flank—about three hours march for an army. Napoleon\\'s reaction was to have Marshal Soult send a message to Grouchy telling him to come towards the battlefield and attack the arriving Prussians. Grouchy, however, had been executing Napoleon\\'s previous orders to follow the Prussians \"with your sword against his back\" towards Wavre, and was by then too far away to reach Waterloo.\\nGrouchy was advised by his subordinate, Gérard, to \"march to the sound of the guns\", but stuck to his orders and engaged the Prussian III Corps rearguard, under the command of Lieutenant-General Baron von Thielmann, at the Battle of Wavre. Moreover, Soult\\'s letter ordering Grouchy to move quickly to join Napoleon and attack Bülow would not actually reach Grouchy until after 20:00.', 'formItem': 'Consequence', 'chunkId': 'Battle of Waterloo-Consequence-chunk0000', 'chunkSeqId': 0}}]\n",
      "[{'chunkItemInfo': {'text': 'Wellington rose at around 02:00 or 03:00 on 18 June, and wrote letters until dawn. He had earlier written to Blücher confirming that he would give battle at Mont-Saint-Jean if Blücher could provide him with at least one corps; otherwise he would retreat towards Brussels. At a late-night council, Blücher\\'s chief of staff, August Neidhardt von Gneisenau, had been distrustful of Wellington\\'s strategy, but Blücher persuaded him that they should march to join Wellington\\'s army. In the morning Wellington duly received a reply from Blücher, promising to support him with three corps.\\nFrom 06:00 Wellington was in the field supervising the deployment of his forces. At Wavre, the Prussian IV Corps under Bülow was designated to lead the march to Waterloo as it was in the best shape, not having been involved in the Battle of Ligny. Although they had not taken casualties, IV Corps had been marching for two days, covering the retreat of the three other corps of the Prussian army from the battlefield of Ligny. They had been posted farthest away from the battlefield, and progress was very slow.\\nThe roads were in poor condition after the night\\'s heavy rain, and Bülow\\'s men had to pass through the congested streets of Wavre and move 88\\xa0artillery pieces. Matters were not helped when a fire broke out in Wavre, blocking several streets along Bülow\\'s intended route. As a result, the last part of the corps left at 10:00, six hours after the leading elements had moved out towards Waterloo. Bülow\\'s men were followed to Waterloo first by I Corps and then by II Corps.\\nNapoleon breakfasted off silver plate at Le Caillou, the house where he had spent the night. When Soult suggested that Grouchy should be recalled to join the main force, Napoleon said, \"Just because you have all been beaten by Wellington, you think he\\'s a good general. I tell you Wellington is a bad general, the English are bad troops, and this affair is nothing more than eating breakfast\".', 'formItem': 'Combatant', 'chunkId': 'Battle of Waterloo-Combatant-chunk0000', 'chunkSeqId': 0}}]\n",
      "[]\n"
     ]
    }
   ],
   "source": [
    "# Each chunk is a small part of the document. To do this, first we need to find all chunks that belong together\n",
    "cypher = \"\"\"\n",
    "   MATCH (from_same_chunk_item:Waterloo_Chunk)\n",
    "    WHERE from_same_chunk_item.formItem = $WaterlooParam\n",
    "    AND from_same_chunk_item.formItem = $WaterlooParam\n",
    "  RETURN from_same_chunk_item {.text, .formItem, .chunkId, .chunkSeqId } as chunkItemInfo\n",
    "    ORDER BY from_same_chunk_item.chunkSeqId ASC\n",
    "    LIMIT 1\n",
    "\"\"\"\n",
    "\n",
    "items = ['Reason', 'Consequence', 'Combatant', 'General Information']\n",
    "for item in items:\n",
    "  result = kg.query(cypher, params={'WaterlooParam':item})\n",
    "  print(f\"{result}\")"
   ]
  },
  {
   "cell_type": "markdown",
   "metadata": {},
   "source": [
    "# 10. Adding NEXT relationship between chunks"
   ]
  },
  {
   "cell_type": "code",
   "execution_count": 13,
   "metadata": {},
   "outputs": [
    {
     "name": "stdout",
     "output_type": "stream",
     "text": [
      "for Reason: [{'size(section_chunk_list)': 5}]\n",
      "for Consequence: [{'size(section_chunk_list)': 28}]\n",
      "for Combatant: [{'size(section_chunk_list)': 23}]\n",
      "for General Information: [{'size(section_chunk_list)': 0}]\n"
     ]
    }
   ],
   "source": [
    "# ordering based on chunkSeqId\n",
    "cypher = \"\"\"\n",
    "  MATCH (n:Waterloo_Chunk)\n",
    "  WHERE n.formItem = $WaterlooParam\n",
    "  WITH n\n",
    "    ORDER BY n.chunkSeqId ASC\n",
    "  WITH collect(n) as section_chunk_list\n",
    "    CALL apoc.nodes.link(\n",
    "        section_chunk_list, \n",
    "        \"NEXT\", \n",
    "        {avoidDuplicates: true}\n",
    "    )\n",
    "  RETURN size(section_chunk_list)\n",
    "\"\"\"\n",
    "\n",
    "items = ['Reason', 'Consequence', 'Combatant', 'General Information']\n",
    "for item in items:\n",
    "  result = kg.query(cypher, params={'WaterlooParam':item})\n",
    "  print(f\"for {item}: {result}\" )"
   ]
  },
  {
   "cell_type": "code",
   "execution_count": null,
   "metadata": {},
   "outputs": [],
   "source": []
  }
 ],
 "metadata": {
  "kernelspec": {
   "display_name": "base",
   "language": "python",
   "name": "python3"
  },
  "language_info": {
   "codemirror_mode": {
    "name": "ipython",
    "version": 3
   },
   "file_extension": ".py",
   "mimetype": "text/x-python",
   "name": "python",
   "nbconvert_exporter": "python",
   "pygments_lexer": "ipython3",
   "version": "3.12.1"
  }
 },
 "nbformat": 4,
 "nbformat_minor": 2
}
